{
 "cells": [
  {
   "cell_type": "code",
   "execution_count": null,
   "id": "6a1a3650",
   "metadata": {},
   "outputs": [],
   "source": [
    "# ques1 1. What is a Python library? Why ^o we use Python libraries?\n",
    " Ans: A collection of modules that are linked together it carry bundles of codes  that can be used in the different codes its save time for the developers and time also they have not right\n",
    "        the same code on the regular basis for the same things"
   ]
  },
  {
   "cell_type": "code",
   "execution_count": null,
   "id": "70a602c8",
   "metadata": {},
   "outputs": [],
   "source": [
    "## Ques2 What is the difference between Numpy array and List?\n",
    "Ans: if we working on the numerical data and in which it require efficient computation and memory usage then the numpy aaray is the best\n",
    "    choice if we have to work on the general purpose when deal with the heterogenous data than python lists are more flexibillity"
   ]
  },
  {
   "cell_type": "code",
   "execution_count": null,
   "id": "159f082f",
   "metadata": {},
   "outputs": [],
   "source": [
    "# ques3 3. Find the shape, size and dimension of the following array?\n",
    "[[1, 2, 3, 4]\n",
    "[5, 6, 7, 8],\n",
    "[9, 10, 11, 12]]"
   ]
  },
  {
   "cell_type": "code",
   "execution_count": 10,
   "id": "8c3e8f7c",
   "metadata": {},
   "outputs": [
    {
     "name": "stdout",
     "output_type": "stream",
     "text": [
      "Shape: (3, 4)\n",
      "Size: 12\n",
      "Dimension: 2\n"
     ]
    }
   ],
   "source": [
    "# Answer 3\n",
    "import numpy as np # here we import numpy for the calculation\n",
    "a = np.array([[1, 2, 3, 4],\n",
    "              [5, 6, 7, 8],\n",
    "              [9, 10, 11, 12]])\n",
    "\n",
    "# Print the shape, size, and dimension of the array\n",
    "print(\"Shape:\", a.shape)\n",
    "print(\"Size:\", a.size)\n",
    "print(\"Dimension:\", a.ndim)"
   ]
  },
  {
   "cell_type": "code",
   "execution_count": null,
   "id": "bf96089e",
   "metadata": {},
   "outputs": [],
   "source": [
    "# Ques4: 4. Write python code to access the first row of the following array?\n",
    "[[1, 2, 3, 4]\n",
    "[5, 6, 7, 8],\n",
    "[9, 10, 11, 12]]"
   ]
  },
  {
   "cell_type": "code",
   "execution_count": 15,
   "id": "a106e3be",
   "metadata": {},
   "outputs": [
    {
     "name": "stdout",
     "output_type": "stream",
     "text": [
      "first_row [1 2 3 4]\n"
     ]
    }
   ],
   "source": [
    "#Ans4\n",
    "a=np.array([[1,2,3,4],\n",
    "          [5,6,7,8,],\n",
    "          [9,10,11,12]])\n",
    "first_row=a[0] # [0] beacuse the index of all the element are present at the 0 \n",
    "print(\"first_row\",first_row)# here print statment is used to print the answer"
   ]
  },
  {
   "cell_type": "code",
   "execution_count": null,
   "id": "84428cc7",
   "metadata": {},
   "outputs": [],
   "source": [
    "# Ques5. How do you access the element at the third row and fourth column from the given numpy array?\n",
    "[[1, 2, 3, 4]\n",
    "[5, 6, 7, 8],\n",
    "[9, 10, 11, 12]]"
   ]
  },
  {
   "cell_type": "code",
   "execution_count": 16,
   "id": "52fdfe2d",
   "metadata": {},
   "outputs": [
    {
     "name": "stdout",
     "output_type": "stream",
     "text": [
      "element at the 3rd row and 4th column 12\n"
     ]
    }
   ],
   "source": [
    "# ans5\n",
    "a=np.array([[1,2,3,4],\n",
    "          [5,6,7,8,],\n",
    "          [9,10,11,12]])\n",
    "# access the element at the 3rd row(index 2) and 4th row index(3)\n",
    "element=a[2,3]\n",
    "print(\"element at the 3rd row and 4th column\",element)\n"
   ]
  },
  {
   "cell_type": "code",
   "execution_count": null,
   "id": "1f1338df",
   "metadata": {},
   "outputs": [],
   "source": [
    "# Ques 6.. Write code to extract all odd-indexed elements from the given numpy array?\n",
    "[[1, 2, 3, 4]\n",
    "[5, 6, 7, 8],\n",
    "[9, 10, 11, 12]]"
   ]
  },
  {
   "cell_type": "code",
   "execution_count": 19,
   "id": "ff74f8a4",
   "metadata": {},
   "outputs": [
    {
     "name": "stdout",
     "output_type": "stream",
     "text": [
      "Odd-indexed elements:\n",
      "[[ 2  4]\n",
      " [ 6  8]\n",
      " [10 12]]\n"
     ]
    }
   ],
   "source": [
    "# ans 6\n",
    "import numpy as np\n",
    "\n",
    "# Define the 2D array as a NumPy array\n",
    "a = np.array([\n",
    "    [1, 2, 3, 4],\n",
    "    [5, 6, 7, 8],\n",
    "    [9, 10, 11, 12]\n",
    "])\n",
    "\n",
    "# Extract all odd-indexed elements using slicing\n",
    "odd_indexed_elements = a[:, 1::2]\n",
    "\n",
    "# Print the extracted odd-indexed elements\n",
    "print(\"Odd-indexed elements:\")\n",
    "print(odd_indexed_elements)\n"
   ]
  },
  {
   "cell_type": "code",
   "execution_count": 22,
   "id": "0edc5074",
   "metadata": {},
   "outputs": [
    {
     "name": "stdout",
     "output_type": "stream",
     "text": [
      "matrix of 3*3 [[0.97944588 0.83903116 0.24935867]\n",
      " [0.7870313  0.68197077 0.04651178]\n",
      " [0.55015334 0.49473267 0.68118197]]\n"
     ]
    }
   ],
   "source": [
    "# Ques 7:. How can you generate a random 3x3 matrix with values between 0 and1?\n",
    "\n",
    "df=np.random.rand(3,3) # we use rnadom.rand for the random values that we want \n",
    "\n",
    "print(\"matrix of 3*3\",df) # here we use print statment here\n"
   ]
  },
  {
   "cell_type": "code",
   "execution_count": null,
   "id": "fc8ee4b5",
   "metadata": {},
   "outputs": [],
   "source": [
    "# ques 8:  Describe the difference between np.random.rand and np.random.randn?\n",
    "random. rand() produces random numbers from a uniform distribution over the interval [0, 1), while np. random. randn() generates random numbers from a standard normal distribution"
   ]
  },
  {
   "cell_type": "code",
   "execution_count": null,
   "id": "a2980f0a",
   "metadata": {},
   "outputs": [],
   "source": [
    "# ques 9. Write code to increase the dimension of the following array?\n",
    "[[1, 2, 3, 4]\n",
    "[5, 6, 7, 8],\n",
    "[9, 10, 11, 12]]"
   ]
  },
  {
   "cell_type": "code",
   "execution_count": 24,
   "id": "6adf5850",
   "metadata": {},
   "outputs": [
    {
     "name": "stdout",
     "output_type": "stream",
     "text": [
      "Original 2D Array:\n",
      "[[ 1  2  3  4]\n",
      " [ 5  6  7  8]\n",
      " [ 9 10 11 12]]\n",
      "\n",
      "Expanded 3D Array:\n",
      "[[[ 1  2  3  4]\n",
      "  [ 5  6  7  8]\n",
      "  [ 9 10 11 12]]]\n"
     ]
    }
   ],
   "source": [
    "# ans 9\n",
    "\n",
    "\n",
    "# Define the 2D array\n",
    "a = np.array([\n",
    "    [1, 2, 3, 4],\n",
    "    [5, 6, 7, 8],\n",
    "    [9, 10, 11, 12]\n",
    "])\n",
    "\n",
    "# Increase the dimension of the array to 3D by adding a new axis\n",
    "expanded_array = np.expand_dims(a, axis=0)\n",
    "\n",
    "# Print the original and expanded arrays\n",
    "print(\"Original 2D Array:\")\n",
    "print(a)\n",
    "print(\"\\nExpanded 3D Array:\")\n",
    "print(expanded_array)\n",
    "\n"
   ]
  },
  {
   "cell_type": "code",
   "execution_count": null,
   "id": "c3424a7a",
   "metadata": {},
   "outputs": [],
   "source": [
    "# ques 10:  How to transpose the following array in NumPy?\n",
    "[[1, 2, 3, 4]\n",
    "[5, 6, 7, 8],\n",
    "[9, 10, 11, 12]]"
   ]
  },
  {
   "cell_type": "code",
   "execution_count": 29,
   "id": "373a023d",
   "metadata": {},
   "outputs": [
    {
     "name": "stdout",
     "output_type": "stream",
     "text": [
      "Original Array:\n",
      "[[ 1  2  3  4]\n",
      " [ 5  6  7  8]\n",
      " [ 9 10 11 12]]\n",
      "\n",
      "Transposed Array:\n",
      "[[ 1  5  9]\n",
      " [ 2  6 10]\n",
      " [ 3  7 11]\n",
      " [ 4  8 12]]\n"
     ]
    }
   ],
   "source": [
    "# Ans10\n",
    "a = np.array([\n",
    "    [1, 2, 3, 4],\n",
    "    [5, 6, 7, 8],\n",
    "    [9, 10, 11, 12]\n",
    "])\n",
    "\n",
    "# Transpose the array\n",
    "transposed_a = a.T\n",
    "\n",
    "# Print the original and transposed arrays\n",
    "print(\"Original Array:\")\n",
    "print(a)\n",
    "print(\"\\nTransposed Array:\")\n",
    "print(transposed_a)\n"
   ]
  },
  {
   "cell_type": "code",
   "execution_count": null,
   "id": "c718ffbd",
   "metadata": {},
   "outputs": [],
   "source": [
    "# ques 11. 11. Consi^der the following matrix:\n",
    "Matrix A2 [[1, 2, 3, 4] [5, 6, 7, 8],[9, 10, 11, 12]]\n",
    "Matrix B2 [[1, 2, 3, 4] [5, 6, 7, 8],[9, 10, 11, 12]]\n",
    "Perform the following operation using Python\n"
   ]
  },
  {
   "cell_type": "code",
   "execution_count": 30,
   "id": "473b23d8",
   "metadata": {},
   "outputs": [
    {
     "name": "stdout",
     "output_type": "stream",
     "text": [
      "Index-wise Multiplication (Element-wise multiplication):\n",
      " [[  1   4   9  16]\n",
      " [ 25  36  49  64]\n",
      " [ 81 100 121 144]]\n"
     ]
    }
   ],
   "source": [
    " # ans11 \n",
    "# 1 index wise\n",
    "\n",
    "\n",
    "# Define matrix A2 and B2\n",
    "A2 = np.array([\n",
    "    [1, 2, 3, 4],\n",
    "    [5, 6, 7, 8],\n",
    "    [9, 10, 11, 12]\n",
    "])\n",
    "\n",
    "B2 = np.array([\n",
    "    [1, 2, 3, 4],\n",
    "    [5, 6, 7, 8],\n",
    "    [9, 10, 11, 12]\n",
    "])\n",
    "\n",
    "# Perform index-wise multiplication (element-wise multiplication)\n",
    "index_wise_multiplication = A2 * B2\n",
    "\n",
    "# Print the result\n",
    "print(\"Index-wise Multiplication (Element-wise multiplication):\\n\", index_wise_multiplication)\n"
   ]
  },
  {
   "cell_type": "code",
   "execution_count": 33,
   "id": "9e91adbb",
   "metadata": {},
   "outputs": [
    {
     "name": "stdout",
     "output_type": "stream",
     "text": [
      "Matrix Multiplication (A2 @ B2_transposed):\n",
      " [[ 30  70 110]\n",
      " [ 70 174 278]\n",
      " [110 278 446]]\n"
     ]
    }
   ],
   "source": [
    "# ans 11 part 2\n",
    "import numpy as np\n",
    "\n",
    "# Define matrix A2 and transposed B2\n",
    "A2 = np.array([\n",
    "    [1, 2, 3, 4],\n",
    "    [5, 6, 7, 8],\n",
    "    [9, 10, 11, 12]\n",
    "])\n",
    "\n",
    "# Transpose matrix B2\n",
    "B2_transposed = np.array([\n",
    "    [1, 5, 9],\n",
    "    [2, 6, 10],\n",
    "    [3, 7, 11],\n",
    "    [4, 8, 12]\n",
    "])\n",
    "\n",
    "# Perform matrix multiplication (A2 @ B2_transposed)\n",
    "matrix_multiplication = np.matmul(A2, B2_transposed)\n",
    "\n",
    "# Print the result of matrix multiplication\n",
    "print(\"Matrix Multiplication (A2 @ B2_transposed):\\n\", matrix_multiplication)\n"
   ]
  },
  {
   "cell_type": "code",
   "execution_count": 34,
   "id": "8d0625ba",
   "metadata": {},
   "outputs": [
    {
     "name": "stdout",
     "output_type": "stream",
     "text": [
      "Matrix Addition (A2 + B2):\n",
      " [[ 2  4  6  8]\n",
      " [10 12 14 16]\n",
      " [18 20 22 24]]\n"
     ]
    }
   ],
   "source": [
    "# ans 11 part 3\n",
    "import numpy as np\n",
    "\n",
    "# Define matrix A2 and B2\n",
    "A2 = np.array([\n",
    "    [1, 2, 3, 4],\n",
    "    [5, 6, 7, 8],\n",
    "    [9, 10, 11, 12]\n",
    "])\n",
    "\n",
    "B2 = np.array([\n",
    "    [1, 2, 3, 4],\n",
    "    [5, 6, 7, 8],\n",
    "    [9, 10, 11, 12]\n",
    "])\n",
    "\n",
    "# Perform matrix addition (element-wise addition)\n",
    "matrix_addition = A2 + B2\n",
    "\n",
    "# Print the result of matrix addition\n",
    "print(\"Matrix Addition (A2 + B2):\\n\", matrix_addition)\n"
   ]
  },
  {
   "cell_type": "code",
   "execution_count": 35,
   "id": "c27bc5b6",
   "metadata": {},
   "outputs": [
    {
     "name": "stdout",
     "output_type": "stream",
     "text": [
      "Matrix Subtraction (A2 - B2):\n",
      " [[0 0 0 0]\n",
      " [0 0 0 0]\n",
      " [0 0 0 0]]\n"
     ]
    }
   ],
   "source": [
    "# ans 11 part 4 \n",
    "import numpy as np\n",
    "\n",
    "# Define matrix A2 and B2\n",
    "A2 = np.array([\n",
    "    [1, 2, 3, 4],\n",
    "    [5, 6, 7, 8],\n",
    "    [9, 10, 11, 12]\n",
    "])\n",
    "\n",
    "B2 = np.array([\n",
    "    [1, 2, 3, 4],\n",
    "    [5, 6, 7, 8],\n",
    "    [9, 10, 11, 12]\n",
    "])\n",
    "\n",
    "# Perform matrix subtraction (element-wise subtraction)\n",
    "matrix_subtraction = A2 - B2\n",
    "\n",
    "# Print the result of matrix subtraction\n",
    "print(\"Matrix Subtraction (A2 - B2):\\n\", matrix_subtraction)\n"
   ]
  },
  {
   "cell_type": "code",
   "execution_count": 36,
   "id": "0792c5c7",
   "metadata": {},
   "outputs": [],
   "source": [
    "# Ques12. Which function in Numpy can be used to swap the byte order of an array?\n",
    "\n"
   ]
  },
  {
   "cell_type": "code",
   "execution_count": 37,
   "id": "1a565fe6",
   "metadata": {},
   "outputs": [
    {
     "name": "stdout",
     "output_type": "stream",
     "text": [
      "[   1  256 8755]\n"
     ]
    }
   ],
   "source": [
    "# Ans: import numpy as np\n",
    "\n",
    "# Create a numpy array with big-endian byte order\n",
    "arr = np.array([1, 256, 8755], dtype=np.int16).newbyteorder()\n",
    "\n",
    "# Swap the byte order of the array\n",
    "arr = arr.byteswap()\n",
    "\n",
    "# Print the array\n",
    "print(arr)"
   ]
  },
  {
   "cell_type": "code",
   "execution_count": null,
   "id": "bcaaeffe",
   "metadata": {},
   "outputs": [],
   "source": [
    "#Ques13.What is the significance of the np.linalg.inv function?"
   ]
  },
  {
   "cell_type": "code",
   "execution_count": 38,
   "id": "f982e1cc",
   "metadata": {},
   "outputs": [
    {
     "name": "stdout",
     "output_type": "stream",
     "text": [
      "Original matrix:\n",
      "[[1 2]\n",
      " [3 4]]\n",
      "\n",
      "Inverse of the matrix:\n",
      "[[-2.   1. ]\n",
      " [ 1.5 -0.5]]\n"
     ]
    }
   ],
   "source": [
    "#ans13\n",
    "import numpy as np\n",
    "\n",
    "# Define a square matrix\n",
    "A = np.array([[1, 2], [3, 4]])\n",
    "\n",
    "# Compute the inverse of the matrix\n",
    "A_inv = np.linalg.inv(A)\n",
    "\n",
    "# Print the original matrix and its inverse\n",
    "print(\"Original matrix:\")\n",
    "print(A)\n",
    "print(\"\\nInverse of the matrix:\")\n",
    "print(A_inv)"
   ]
  },
  {
   "cell_type": "code",
   "execution_count": null,
   "id": "ff2cc75b",
   "metadata": {},
   "outputs": [],
   "source": [
    "#ques13 What does the np.reshape function do, and how is it used?"
   ]
  },
  {
   "cell_type": "code",
   "execution_count": 41,
   "id": "15c48370",
   "metadata": {},
   "outputs": [
    {
     "name": "stdout",
     "output_type": "stream",
     "text": [
      "[[1 2 3]\n",
      " [4 5 6]]\n"
     ]
    }
   ],
   "source": [
    "#ans13 \n",
    "import numpy as np\n",
    "\n",
    "# Create a NumPy array\n",
    "arr = np.array([1, 2, 3, 4, 5, 6])\n",
    "\n",
    "# Reshape the array into a 2x3 matrix\n",
    "reshaped_arr = np.reshape(arr, (2, 3))\n",
    "\n",
    "print(reshaped_arr)\n",
    "#\n",
    "#The np.reshape function in NumPy is used to change the shape (dimensions) of an array without changing its data. This function does not modify the original array, but instead, it returns a new array with the specified shape."
   ]
  },
  {
   "cell_type": "code",
   "execution_count": null,
   "id": "a0e317d2",
   "metadata": {},
   "outputs": [],
   "source": [
    "#Ques 15: \n",
    "#What is broadcasting in Numpy\n",
    "\n",
    "# ans \n",
    "Broadcasting in NumPy is a powerful mechanism that allows NumPy to perform operations on arrays of different shapes, which can greatly simplify the syntax and execution of various numerical computations.\n",
    "\n",
    "The key idea behind broadcasting is that when performing element-wise operations between arrays, NumPy automatically adjusts the dimensions of the arrays to make the operation possible, rather than requiring the arrays to have exactly the same shape."
   ]
  }
 ],
 "metadata": {
  "kernelspec": {
   "display_name": "Python 3 (ipykernel)",
   "language": "python",
   "name": "python3"
  },
  "language_info": {
   "codemirror_mode": {
    "name": "ipython",
    "version": 3
   },
   "file_extension": ".py",
   "mimetype": "text/x-python",
   "name": "python",
   "nbconvert_exporter": "python",
   "pygments_lexer": "ipython3",
   "version": "3.11.5"
  }
 },
 "nbformat": 4,
 "nbformat_minor": 5
}
